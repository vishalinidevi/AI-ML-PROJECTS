{
  "nbformat": 4,
  "nbformat_minor": 0,
  "metadata": {
    "colab": {
      "provenance": []
    },
    "kernelspec": {
      "name": "python3",
      "display_name": "Python 3"
    },
    "language_info": {
      "name": "python"
    }
  },
  "cells": [
    {
      "cell_type": "code",
      "execution_count": null,
      "metadata": {
        "colab": {
          "base_uri": "https://localhost:8080/",
          "height": 263
        },
        "id": "kwQeL4kZjcTe",
        "outputId": "e4361224-664a-49da-8ef2-94496281e70c"
      },
      "outputs": [
        {
          "output_type": "stream",
          "name": "stdout",
          "text": [
            "education {\n",
            "  \"first_name\": \"Arunkumar\",\n",
            "  \"last_name\": \"Jeyakumar\",\n",
            "  \"years_of_experience\": 11,\n",
            "  \"phone\": \"+91-9600538378\",\n",
            "  \"email\": \"arun_kumar1603@yahoo.com\",\n",
            "  \"skills\": [\"C#\", \"SQL\", \"XML\", \"Linq\", \"JSCRIPT\", \"HTML\", \"CSS\", \"Angular 10x\", \"WCF service\", \"Web API\", \"SSIS\", \"SSRS\", \"Visual Studio 2017\", \"SQL Server 2008, 2012 and PostgreSQL 4.0\", \"Agile (SCRUM)\", \"GIT\", \"Bamboo\", \"TFS\", \"JIRA\", \"Bit Bucket\", \"Edit Plus Editor\", \"Notepad++\", \"Win Merge\", \"Sonar\", \"Product Development\", \"Design and Product Lifecycle\", \"RabbitMQ\"],\n",
            "  \"education\": {\n",
            "    \"university\": \"Anna University\",\n",
            "    \"degree\": \"Bachelor of Technology (IT)\",\n",
            "    \"year\": 2012\n",
            "  }\n",
            "}\n"
          ]
        }
      ],
      "source": [
        "import fitz  # PyMuPDF for PDF processing\n",
        "import google.generativeai as genai\n",
        "\n",
        "# Step 1: Configure and Initialize Google Generative AI\n",
        "from google.colab import userdata\n",
        "\n",
        "\n",
        "# Store the API key as a secret (optional for direct setting)\n",
        "# userdata.set('GOOGLE_API_KEY', GOOGLE_API_KEY)\n",
        "\n",
        "# Initialize Google Generative AI\n",
        "genai.configure(api_key=GOOGLE_API_KEY)\n",
        "\n",
        "# Step 2: Extract Text from the PDF\n",
        "def extract_text_from_pdf(pdf_path):\n",
        "    doc = fitz.open(pdf_path)\n",
        "    text = \"\"\n",
        "    for page_num in range(len(doc)):\n",
        "        page = doc.load_page(page_num)\n",
        "        text += page.get_text()\n",
        "    return text\n",
        "\n",
        "# Step 3: Use AI Model for Parsing\n",
        "def gemini_output_from_pdf(pdf_path, system_prompt, user_prompt):\n",
        "    text_data = extract_text_from_pdf(pdf_path)\n",
        "    input_prompt = system_prompt + \"\\n\" + text_data + \"\\n\" + user_prompt\n",
        "    response = genai.generate_text(prompt=input_prompt)\n",
        "    return response.result\n",
        "\n",
        "# Step 4: Define System and User Prompts\n",
        "system_prompt = \"You are a skilled data extractor. Extract the required data from the provided text.give the provided text in json format\"\n",
        "user_prompt = \"\"\"first_name ,last_name,years_of_experience,phone,email,skills,\"\"\"\n",
        "\n",
        "\n",
        "# Step 5: Set the PDF Path and Get the Response\n",
        "pdf_path = \"/content/Arunkumar_242316817 (2).pdf\"  # Update this with your actual PDF path\n",
        "output = gemini_output_from_pdf(pdf_path, system_prompt, user_prompt)\n",
        "\n",
        "# Print the output from the model\n",
        "print(output)\n"
      ]
    },
    {
      "cell_type": "code",
      "source": [
        "!!pip install pymupdf\n",
        "!pip install google-generativeai"
      ],
      "metadata": {
        "colab": {
          "base_uri": "https://localhost:8080/"
        },
        "id": "StQfknatle2E",
        "outputId": "891b3b2c-7d19-434a-c561-65509cc6d41d"
      },
      "execution_count": null,
      "outputs": [
        {
          "output_type": "stream",
          "name": "stdout",
          "text": [
            "Requirement already satisfied: google-generativeai in /usr/local/lib/python3.10/dist-packages (0.7.2)\n",
            "Requirement already satisfied: google-ai-generativelanguage==0.6.6 in /usr/local/lib/python3.10/dist-packages (from google-generativeai) (0.6.6)\n",
            "Requirement already satisfied: google-api-core in /usr/local/lib/python3.10/dist-packages (from google-generativeai) (2.19.1)\n",
            "Requirement already satisfied: google-api-python-client in /usr/local/lib/python3.10/dist-packages (from google-generativeai) (2.137.0)\n",
            "Requirement already satisfied: google-auth>=2.15.0 in /usr/local/lib/python3.10/dist-packages (from google-generativeai) (2.27.0)\n",
            "Requirement already satisfied: protobuf in /usr/local/lib/python3.10/dist-packages (from google-generativeai) (3.20.3)\n",
            "Requirement already satisfied: pydantic in /usr/local/lib/python3.10/dist-packages (from google-generativeai) (2.8.2)\n",
            "Requirement already satisfied: tqdm in /usr/local/lib/python3.10/dist-packages (from google-generativeai) (4.66.5)\n",
            "Requirement already satisfied: typing-extensions in /usr/local/lib/python3.10/dist-packages (from google-generativeai) (4.12.2)\n",
            "Requirement already satisfied: proto-plus<2.0.0dev,>=1.22.3 in /usr/local/lib/python3.10/dist-packages (from google-ai-generativelanguage==0.6.6->google-generativeai) (1.24.0)\n",
            "Requirement already satisfied: googleapis-common-protos<2.0.dev0,>=1.56.2 in /usr/local/lib/python3.10/dist-packages (from google-api-core->google-generativeai) (1.63.2)\n",
            "Requirement already satisfied: requests<3.0.0.dev0,>=2.18.0 in /usr/local/lib/python3.10/dist-packages (from google-api-core->google-generativeai) (2.32.3)\n",
            "Requirement already satisfied: cachetools<6.0,>=2.0.0 in /usr/local/lib/python3.10/dist-packages (from google-auth>=2.15.0->google-generativeai) (5.4.0)\n",
            "Requirement already satisfied: pyasn1-modules>=0.2.1 in /usr/local/lib/python3.10/dist-packages (from google-auth>=2.15.0->google-generativeai) (0.4.0)\n",
            "Requirement already satisfied: rsa<5,>=3.1.4 in /usr/local/lib/python3.10/dist-packages (from google-auth>=2.15.0->google-generativeai) (4.9)\n",
            "Requirement already satisfied: httplib2<1.dev0,>=0.19.0 in /usr/local/lib/python3.10/dist-packages (from google-api-python-client->google-generativeai) (0.22.0)\n",
            "Requirement already satisfied: google-auth-httplib2<1.0.0,>=0.2.0 in /usr/local/lib/python3.10/dist-packages (from google-api-python-client->google-generativeai) (0.2.0)\n",
            "Requirement already satisfied: uritemplate<5,>=3.0.1 in /usr/local/lib/python3.10/dist-packages (from google-api-python-client->google-generativeai) (4.1.1)\n",
            "Requirement already satisfied: annotated-types>=0.4.0 in /usr/local/lib/python3.10/dist-packages (from pydantic->google-generativeai) (0.7.0)\n",
            "Requirement already satisfied: pydantic-core==2.20.1 in /usr/local/lib/python3.10/dist-packages (from pydantic->google-generativeai) (2.20.1)\n",
            "Requirement already satisfied: grpcio<2.0dev,>=1.33.2 in /usr/local/lib/python3.10/dist-packages (from google-api-core[grpc]!=2.0.*,!=2.1.*,!=2.10.*,!=2.2.*,!=2.3.*,!=2.4.*,!=2.5.*,!=2.6.*,!=2.7.*,!=2.8.*,!=2.9.*,<3.0.0dev,>=1.34.1->google-ai-generativelanguage==0.6.6->google-generativeai) (1.64.1)\n",
            "Requirement already satisfied: grpcio-status<2.0.dev0,>=1.33.2 in /usr/local/lib/python3.10/dist-packages (from google-api-core[grpc]!=2.0.*,!=2.1.*,!=2.10.*,!=2.2.*,!=2.3.*,!=2.4.*,!=2.5.*,!=2.6.*,!=2.7.*,!=2.8.*,!=2.9.*,<3.0.0dev,>=1.34.1->google-ai-generativelanguage==0.6.6->google-generativeai) (1.48.2)\n",
            "Requirement already satisfied: pyparsing!=3.0.0,!=3.0.1,!=3.0.2,!=3.0.3,<4,>=2.4.2 in /usr/local/lib/python3.10/dist-packages (from httplib2<1.dev0,>=0.19.0->google-api-python-client->google-generativeai) (3.1.2)\n",
            "Requirement already satisfied: pyasn1<0.7.0,>=0.4.6 in /usr/local/lib/python3.10/dist-packages (from pyasn1-modules>=0.2.1->google-auth>=2.15.0->google-generativeai) (0.6.0)\n",
            "Requirement already satisfied: charset-normalizer<4,>=2 in /usr/local/lib/python3.10/dist-packages (from requests<3.0.0.dev0,>=2.18.0->google-api-core->google-generativeai) (3.3.2)\n",
            "Requirement already satisfied: idna<4,>=2.5 in /usr/local/lib/python3.10/dist-packages (from requests<3.0.0.dev0,>=2.18.0->google-api-core->google-generativeai) (3.7)\n",
            "Requirement already satisfied: urllib3<3,>=1.21.1 in /usr/local/lib/python3.10/dist-packages (from requests<3.0.0.dev0,>=2.18.0->google-api-core->google-generativeai) (2.0.7)\n",
            "Requirement already satisfied: certifi>=2017.4.17 in /usr/local/lib/python3.10/dist-packages (from requests<3.0.0.dev0,>=2.18.0->google-api-core->google-generativeai) (2024.7.4)\n"
          ]
        }
      ]
    }
  ]
}